{
 "cells": [
  {
   "cell_type": "markdown",
   "metadata": {},
   "source": [
    "# Exercice 01:\n",
    "\n",
    "The following exercice requires some understanding in the following subjects: \n",
    "- understand the notion of variable and data-types\n",
    "- read the user inputs \n",
    "- understand conditions in python\n",
    "\n"
   ]
  },
  {
   "cell_type": "markdown",
   "metadata": {},
   "source": [
    "## 1. Review: \n",
    "\n",
    "### 1.a. Create two variables `time` and `distance` with the following values \"6.89\" and \"16.7\" . Compute the speed and save it in a variable called `speed` and print then the speed. "
   ]
  },
  {
   "cell_type": "code",
   "execution_count": 5,
   "metadata": {},
   "outputs": [],
   "source": [
    "# declare the two variables time and distance\n",
    "time = 6.89\n",
    "distance = 16.7"
   ]
  },
  {
   "cell_type": "code",
   "execution_count": 9,
   "metadata": {},
   "outputs": [
    {
     "name": "stdout",
     "output_type": "stream",
     "text": [
      "2.423802612481858\n"
     ]
    }
   ],
   "source": [
    "speed = distance / time\n",
    "print(speed)"
   ]
  },
  {
   "cell_type": "markdown",
   "metadata": {},
   "source": [
    "### 1.b. Create a list called `special_lst` with the following values: [12,8,9,13,11,10]. Compute the average value of all the value of the list with index and save it to a variable called `avg_special_lst` . "
   ]
  },
  {
   "cell_type": "code",
   "execution_count": 6,
   "metadata": {},
   "outputs": [
    {
     "name": "stdout",
     "output_type": "stream",
     "text": [
      "10.5\n"
     ]
    }
   ],
   "source": [
    "# create the list and then compute its average value\n",
    "special_lst = [12,8,9,13,11,10]\n",
    "average_special_lst = sum(special_lst)/len(special_lst)\n",
    "print(average_special_lst)"
   ]
  },
  {
   "cell_type": "markdown",
   "metadata": {},
   "source": [
    "### 1.c. Given the following variables: \n",
    "```python\n",
    "\n",
    "tiger = 'cat'\n",
    "lion = 'cat'\n",
    "kitty = 'cat'\n",
    "cheetah = 'cat' \n",
    "hyena = 'dog'\n",
    "wolf = 'dog' \n",
    "husky = 'dog'\n",
    "owl = 'bird' \n",
    "pigeon = 'bird'\n",
    "duck = 'bird'\n",
    "```\n",
    "\n",
    "Write the following statements in Boolean and print the answer: \n",
    "\n",
    "```python\n",
    "\n",
    "ex: is_tiger_a_cat = (tiger == 'cat') # true because 'true equals true' is true.\n",
    " \n",
    "tiger_is_not_a_dog \n",
    "\n",
    "a_duck_is_not_a_cat\n",
    "\n",
    "a_piegon_is_neither_a_cat_nor_a_dog  \n",
    "\n",
    "a_wolf_is_a_bird\n",
    "\n",
    "a_duck_is_a_pigeon\n",
    "\n",
    "owl_is_a_duck_or_a_cheetah  \n",
    "\n",
    "husky_is_a_bird_or_duck_is_a_cat\n",
    "\n",
    "owl_is_a_duck_and_hyena_is_a_wolf \n",
    "```\n",
    "\n",
    "\n"
   ]
  },
  {
   "cell_type": "code",
   "execution_count": 23,
   "metadata": {},
   "outputs": [],
   "source": [
    "tiger = 'cat'\n",
    "lion = 'cat'\n",
    "kitty = 'cat'\n",
    "cheetah = 'cat' \n",
    "hyena = 'dog'\n",
    "wolf = 'dog' \n",
    "husky = 'dog'\n",
    "owl = 'bird' \n",
    "pigeon = 'bird'\n",
    "duck = 'bird'"
   ]
  },
  {
   "cell_type": "code",
   "execution_count": 24,
   "metadata": {},
   "outputs": [],
   "source": [
    "tiger_is_not_a_dog = (tiger != 'dog')"
   ]
  },
  {
   "cell_type": "code",
   "execution_count": 25,
   "metadata": {},
   "outputs": [
    {
     "data": {
      "text/plain": [
       "True"
      ]
     },
     "execution_count": 25,
     "metadata": {},
     "output_type": "execute_result"
    }
   ],
   "source": [
    "tiger_is_not_a_dog"
   ]
  },
  {
   "cell_type": "code",
   "execution_count": 26,
   "metadata": {},
   "outputs": [],
   "source": [
    "a_duck_is_not_a_cat = ('duck'!= 'cat')"
   ]
  },
  {
   "cell_type": "code",
   "execution_count": 27,
   "metadata": {},
   "outputs": [
    {
     "data": {
      "text/plain": [
       "True"
      ]
     },
     "execution_count": 27,
     "metadata": {},
     "output_type": "execute_result"
    }
   ],
   "source": [
    "a_duck_is_not_a_cat"
   ]
  },
  {
   "cell_type": "code",
   "execution_count": 28,
   "metadata": {},
   "outputs": [],
   "source": [
    "a_pigeon_is_neither_a_cat_nor_a_dog = ('pigeon'!= 'cat'!= 'dog')"
   ]
  },
  {
   "cell_type": "code",
   "execution_count": 29,
   "metadata": {},
   "outputs": [
    {
     "data": {
      "text/plain": [
       "True"
      ]
     },
     "execution_count": 29,
     "metadata": {},
     "output_type": "execute_result"
    }
   ],
   "source": [
    "a_pigeon_is_neither_a_cat_nor_a_dog"
   ]
  },
  {
   "cell_type": "code",
   "execution_count": 47,
   "metadata": {},
   "outputs": [],
   "source": [
    "a_wolf_is_a_bird = ('wolf'== 'bird')"
   ]
  },
  {
   "cell_type": "code",
   "execution_count": 48,
   "metadata": {},
   "outputs": [
    {
     "data": {
      "text/plain": [
       "False"
      ]
     },
     "execution_count": 48,
     "metadata": {},
     "output_type": "execute_result"
    }
   ],
   "source": [
    "a_wolf_is_a_bird"
   ]
  },
  {
   "cell_type": "code",
   "execution_count": 49,
   "metadata": {},
   "outputs": [],
   "source": [
    "a_duck_is_a_pigeon = ('bird'== 'bird')"
   ]
  },
  {
   "cell_type": "code",
   "execution_count": 50,
   "metadata": {},
   "outputs": [
    {
     "data": {
      "text/plain": [
       "True"
      ]
     },
     "execution_count": 50,
     "metadata": {},
     "output_type": "execute_result"
    }
   ],
   "source": [
    "a_duck_is_a_pigeon"
   ]
  },
  {
   "cell_type": "code",
   "execution_count": 51,
   "metadata": {},
   "outputs": [],
   "source": [
    "owl_is_a_duck_or_a_cheetah = ('bird'=='bird'or 'cat')  "
   ]
  },
  {
   "cell_type": "code",
   "execution_count": 52,
   "metadata": {},
   "outputs": [
    {
     "data": {
      "text/plain": [
       "True"
      ]
     },
     "execution_count": 52,
     "metadata": {},
     "output_type": "execute_result"
    }
   ],
   "source": [
    "owl_is_a_duck_or_a_cheetah"
   ]
  },
  {
   "cell_type": "code",
   "execution_count": 53,
   "metadata": {},
   "outputs": [],
   "source": [
    "husky_is_a_bird_or_duck_is_a_cat = ('dog' == 'bird' or 'duck' == 'cat')"
   ]
  },
  {
   "cell_type": "code",
   "execution_count": 54,
   "metadata": {},
   "outputs": [
    {
     "data": {
      "text/plain": [
       "False"
      ]
     },
     "execution_count": 54,
     "metadata": {},
     "output_type": "execute_result"
    }
   ],
   "source": [
    "husky_is_a_bird_or_duck_is_a_cat"
   ]
  },
  {
   "cell_type": "code",
   "execution_count": 55,
   "metadata": {},
   "outputs": [],
   "source": [
    "owl_is_a_duck_and_hyena_is_a_wolf = ('bird'== 'bird' and 'dog' == 'dog')"
   ]
  },
  {
   "cell_type": "code",
   "execution_count": 56,
   "metadata": {},
   "outputs": [
    {
     "data": {
      "text/plain": [
       "True"
      ]
     },
     "execution_count": 56,
     "metadata": {},
     "output_type": "execute_result"
    }
   ],
   "source": [
    "owl_is_a_duck_and_hyena_is_a_wolf"
   ]
  },
  {
   "cell_type": "markdown",
   "metadata": {},
   "source": [
    "## 2. Conditions\n",
    "### 2.a. Ask the user for an input (as Integer), save it to a variable called `user_number` and print if the entered number is an *odd* or an *even* number. \n"
   ]
  },
  {
   "cell_type": "code",
   "execution_count": 58,
   "metadata": {},
   "outputs": [
    {
     "name": "stdout",
     "output_type": "stream",
     "text": [
      "8\n",
      "8 is Even\n"
     ]
    }
   ],
   "source": [
    "user_number = num = int(input())\n",
    "if (num % 2) == 0:\n",
    "    print(\"{0} is Even\".format(num))\n",
    "else:\n",
    "    print(\"{0} is Odd\".format(num))"
   ]
  },
  {
   "cell_type": "markdown",
   "metadata": {},
   "source": [
    "### 2.b. Ask the user for 3 integer inputs `val_1`, `val_2` and `val_3` .  Create also a variable `val_min`. And then whith the help of if (elif, else) statement ,make the variable `val_min`get the *minimum value* of the `val_1` , `val_2` and `val_3` (without using any other method or function, ONLY with IF and ELIF) "
   ]
  },
  {
   "cell_type": "code",
   "execution_count": 22,
   "metadata": {},
   "outputs": [
    {
     "name": "stdout",
     "output_type": "stream",
     "text": [
      "Add the first number 2\n",
      "Add the second number 4\n",
      "Add the third number 6\n"
     ]
    }
   ],
   "source": [
    "# for example ilf val_1 = 3, val_2 = 4 and val_3 = 7 then val_min shoud be 3\n",
    "\n",
    "val_1 = int(input(\"Add the first number \"))\n",
    "val_2 = int(input(\"Add the second number \"))\n",
    "val_3 = int(input(\"Add the third number \"))"
   ]
  },
  {
   "cell_type": "code",
   "execution_count": 20,
   "metadata": {},
   "outputs": [
    {
     "data": {
      "text/plain": [
       "'val_1'"
      ]
     },
     "execution_count": 20,
     "metadata": {},
     "output_type": "execute_result"
    }
   ],
   "source": [
    "val_min = min(\"val_1\" , \"val_2\" , \"val_3\")"
   ]
  },
  {
   "cell_type": "code",
   "execution_count": 21,
   "metadata": {},
   "outputs": [
    {
     "name": "stdout",
     "output_type": "stream",
     "text": [
      "val_1\n"
     ]
    }
   ],
   "source": [
    "if val_1 < val_2:\n",
    "    print(\"val_1\")\n",
    "elif val_1 < val_3:\n",
    "    print(\"val_1\")\n",
    "elif val_2 < val_1:\n",
    "    print(\"val_2\")\n",
    "elif val_2 < val_3:\n",
    "    print(\"val_2\")\n",
    "elif val_3 < val_1:\n",
    "    print(\"val_3\")\n",
    "elif val_3 < val_2:\n",
    "    print(\"val_3\")\n",
    "else:\n",
    "    print(\"val_min\")"
   ]
  },
  {
   "cell_type": "markdown",
   "metadata": {},
   "source": [
    "### 2.b. Ask the user for an input (Integer), save it to a variable called `user_number` and print if the entered number is a negative or a positive number \n"
   ]
  },
  {
   "cell_type": "code",
   "execution_count": 1,
   "metadata": {},
   "outputs": [
    {
     "name": "stdout",
     "output_type": "stream",
     "text": [
      "Add your number please -3\n"
     ]
    }
   ],
   "source": [
    "# ask for the number \n",
    "user_number = int(input(\"Add your number please \"))"
   ]
  },
  {
   "cell_type": "code",
   "execution_count": 2,
   "metadata": {},
   "outputs": [
    {
     "name": "stdout",
     "output_type": "stream",
     "text": [
      "negative number\n"
     ]
    }
   ],
   "source": [
    "if user_number >= 0:\n",
    "    print(\"Positive number\") \n",
    "elif user_number < 0:\n",
    "    print(\"negative number\")"
   ]
  },
  {
   "cell_type": "markdown",
   "metadata": {},
   "source": [
    "### 2.c. We want to securise a pressurized cabins: \n",
    "The max pressure is : pMax = 2.3, and the max area is aMax = 7.41.\n",
    "Ask the user for the actual pression and area\n",
    "- if both, the area and the pression are higher than the pMax and aMax, then write: \"stop immediately\"\n",
    "- if the pressure is higher than the pMax, then write: \"Please, add more area!\"\n",
    "- if the area is higher the aMax, then write: \"Please, lower the area!\"\n",
    "- else, write: \"everything is fine!\" \n"
   ]
  },
  {
   "cell_type": "code",
   "execution_count": 4,
   "metadata": {},
   "outputs": [],
   "source": [
    "# declare the pMax=2.3 and aMax=7.41\n",
    "pMax = 2.3  \n",
    "aMax = 7.41 "
   ]
  },
  {
   "cell_type": "code",
   "execution_count": 5,
   "metadata": {},
   "outputs": [
    {
     "name": "stdout",
     "output_type": "stream",
     "text": [
      "actual pression 2\n",
      "actual area 8\n"
     ]
    }
   ],
   "source": [
    "Pression = int(input(\"actual pression \"))\n",
    "area = int(input(\"actual area \"))"
   ]
  },
  {
   "cell_type": "code",
   "execution_count": 6,
   "metadata": {},
   "outputs": [
    {
     "name": "stdout",
     "output_type": "stream",
     "text": [
      "Please, lower the area!\n"
     ]
    }
   ],
   "source": [
    "\n",
    "if Pression > pMax and area > aMax:\n",
    "    print(\"stop immediately\")\n",
    "elif Pression > pMax:\n",
    "    print(\"Please, add more area!\")\n",
    "elif area > aMax:\n",
    "    print(\"Please, lower the area!\")\n",
    "else:\n",
    "    print(\"everything is fine!\")"
   ]
  },
  {
   "cell_type": "code",
   "execution_count": null,
   "metadata": {},
   "outputs": [],
   "source": []
  }
 ],
 "metadata": {
  "kernelspec": {
   "display_name": "Python 3",
   "language": "python",
   "name": "python3"
  },
  "language_info": {
   "codemirror_mode": {
    "name": "ipython",
    "version": 3
   },
   "file_extension": ".py",
   "mimetype": "text/x-python",
   "name": "python",
   "nbconvert_exporter": "python",
   "pygments_lexer": "ipython3",
   "version": "3.8.3"
  }
 },
 "nbformat": 4,
 "nbformat_minor": 4
}
